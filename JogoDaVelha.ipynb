{
  "nbformat": 4,
  "nbformat_minor": 0,
  "metadata": {
    "colab": {
      "provenance": [],
      "authorship_tag": "ABX9TyN4ETcZmm9x40eUBjWKovh6",
      "include_colab_link": true
    },
    "kernelspec": {
      "name": "python3",
      "display_name": "Python 3"
    },
    "language_info": {
      "name": "python"
    }
  },
  "cells": [
    {
      "cell_type": "markdown",
      "metadata": {
        "id": "view-in-github",
        "colab_type": "text"
      },
      "source": [
        "<a href=\"https://colab.research.google.com/github/luminecherry/Desafio/blob/main/JogoDaVelha.ipynb\" target=\"_parent\"><img src=\"https://colab.research.google.com/assets/colab-badge.svg\" alt=\"Open In Colab\"/></a>"
      ]
    },
    {
      "cell_type": "code",
      "execution_count": null,
      "metadata": {
        "colab": {
          "base_uri": "https://localhost:8080/"
        },
        "id": "bfdf7Ge6bI6P",
        "outputId": "0a3cffa0-6664-4353-d5d9-c5ea398f18f4"
      },
      "outputs": [
        {
          "output_type": "stream",
          "name": "stdout",
          "text": [
            "Bem-vindo ao Jogo da Velha!\n",
            " | | \n",
            "---------\n",
            " | | \n",
            "---------\n",
            " | | \n",
            "---------\n"
          ]
        }
      ],
      "source": [
        "def imprimir_tabuleiro(tabuleiro):\n",
        "    for linha in tabuleiro:\n",
        "        print('|'.join(linha))\n",
        "        print('-' * 9)\n",
        "\n",
        "def verificar_vitoria(tabuleiro, jogador):\n",
        "    # Verificar linhas\n",
        "    for linha in tabuleiro:\n",
        "        if linha.count(jogador) == 3:\n",
        "            return True\n",
        "\n",
        "    # Verificar colunas\n",
        "    for coluna in range(3):\n",
        "        if tabuleiro[0][coluna] == tabuleiro[1][coluna] == tabuleiro[2][coluna] == jogador:\n",
        "            return True\n",
        "\n",
        "    # Verificar diagonais\n",
        "    if tabuleiro[0][0] == tabuleiro[1][1] == tabuleiro[2][2] == jogador:\n",
        "        return True\n",
        "\n",
        "    if tabuleiro[0][2] == tabuleiro[1][1] == tabuleiro[2][0] == jogador:\n",
        "        return True\n",
        "\n",
        "    return False\n",
        "\n",
        "def jogar_jogo_da_velha():\n",
        "    tabuleiro = [[' ', ' ', ' '], [' ', ' ', ' '], [' ', ' ', ' ']]\n",
        "    jogadores = ['X', 'O']\n",
        "    jogador_atual = 0\n",
        "    jogadas = 0\n",
        "\n",
        "    print('Bem-vindo ao Jogo da Velha!')\n",
        "\n",
        "    while True:\n",
        "        imprimir_tabuleiro(tabuleiro)\n",
        "        linha = int(input('Digite o número da linha (0-2): '))\n",
        "        coluna = int(input('Digite o número da coluna (0-2): '))\n",
        "\n",
        "        if tabuleiro[linha][coluna] != ' ':\n",
        "            print('Posição ocupada! Tente novamente.')\n",
        "            continue\n",
        "\n",
        "        tabuleiro[linha][coluna] = jogadores[jogador_atual]\n",
        "        jogadas += 1\n",
        "\n",
        "        if verificar_vitoria(tabuleiro, jogadores[jogador_atual]):\n",
        "            imprimir_tabuleiro(tabuleiro)\n",
        "            print('Jogador', jogadores[jogador_atual], 'venceu!')\n",
        "            break\n",
        "\n",
        "        if jogadas == 9:\n",
        "            imprimir_tabuleiro(tabuleiro)\n",
        "            print('Empate!')\n",
        "            break\n",
        "\n",
        "        jogador_atual = (jogador_atual + 1) % 2\n",
        "\n",
        "    jogar_novamente = input('Deseja jogar novamente? (s/n) ')\n",
        "    if jogar_novamente.lower() == 's':\n",
        "        jogar_jogo_da_velha()\n",
        "    else:\n",
        "        print('Obrigado por jogar!')\n",
        "\n",
        "jogar_jogo_da_velha()"
      ]
    }
  ]
}