{
  "nbformat": 4,
  "nbformat_minor": 0,
  "metadata": {
    "colab": {
      "provenance": [],
      "authorship_tag": "ABX9TyO2aBlZ6uuszhooMnos7XCQ",
      "include_colab_link": true
    },
    "kernelspec": {
      "name": "python3",
      "display_name": "Python 3"
    },
    "language_info": {
      "name": "python"
    }
  },
  "cells": [
    {
      "cell_type": "markdown",
      "metadata": {
        "id": "view-in-github",
        "colab_type": "text"
      },
      "source": [
        "<a href=\"https://colab.research.google.com/github/luminecherry/Desafio/blob/main/Xadrez.ipynb\" target=\"_parent\"><img src=\"https://colab.research.google.com/assets/colab-badge.svg\" alt=\"Open In Colab\"/></a>"
      ]
    },
    {
      "cell_type": "code",
      "execution_count": null,
      "metadata": {
        "colab": {
          "base_uri": "https://localhost:8080/"
        },
        "id": "4gtZYCuKwq7W",
        "outputId": "2ed36752-8916-4d7d-8749-93aa822d071f"
      },
      "outputs": [
        {
          "output_type": "stream",
          "name": "stdout",
          "text": [
            "Turno: brancas\n",
            "r n b q k b n r\n",
            "p p p p p p p p\n",
            "               \n",
            "               \n",
            "               \n",
            "               \n",
            "P P P P P P P P\n",
            "R N B Q K B N R\n"
          ]
        }
      ],
      "source": [
        "# Função para imprimir o tabuleiro\n",
        "def imprimir_tabuleiro(tabuleiro):\n",
        "    for linha in tabuleiro:\n",
        "        print(' '.join(linha))\n",
        "\n",
        "# Função para inicializar o tabuleiro\n",
        "def inicializar_tabuleiro():\n",
        "    tabuleiro = [['r', 'n', 'b', 'q', 'k', 'b', 'n', 'r'],\n",
        "                 ['p', 'p', 'p', 'p', 'p', 'p', 'p', 'p'],\n",
        "                 [' ', ' ', ' ', ' ', ' ', ' ', ' ', ' '],\n",
        "                 [' ', ' ', ' ', ' ', ' ', ' ', ' ', ' '],\n",
        "                 [' ', ' ', ' ', ' ', ' ', ' ', ' ', ' '],\n",
        "                 [' ', ' ', ' ', ' ', ' ', ' ', ' ', ' '],\n",
        "                 ['P', 'P', 'P', 'P', 'P', 'P', 'P', 'P'],\n",
        "                 ['R', 'N', 'B', 'Q', 'K', 'B', 'N', 'R']]\n",
        "    return tabuleiro\n",
        "\n",
        "# Função para mover uma peça\n",
        "def mover_peca(tabuleiro, inicio, fim):\n",
        "    x1, y1 = inicio\n",
        "    x2, y2 = fim\n",
        "    peca = tabuleiro[x1][y1]\n",
        "    tabuleiro[x1][y1] = ' '\n",
        "    tabuleiro[x2][y2] = peca\n",
        "\n",
        "# Função para validar um movimento\n",
        "def validar_movimento(tabuleiro, inicio, fim):\n",
        "    x1, y1 = inicio\n",
        "    x2, y2 = fim\n",
        "    peca = tabuleiro[x1][y1]\n",
        "\n",
        "    # Verificar se a peça está se movendo dentro dos limites do tabuleiro\n",
        "    if x2 < 0 or x2 > 7 or y2 < 0 or y2 > 7:\n",
        "        return False\n",
        "\n",
        "    # Verificar se a posição de destino está vazia ou ocupada por uma peça adversária\n",
        "    if tabuleiro[x2][y2] != ' ' and tabuleiro[x2][y2].islower() == peca.islower():\n",
        "        return False\n",
        "\n",
        "    # Verificar a lógica de movimento para cada tipo de peça\n",
        "    if peca.lower() == 'r':  # Torre\n",
        "        if x1 != x2 and y1 != y2:\n",
        "            return False\n",
        "    elif peca.lower() == 'n':  # Cavalo\n",
        "        if abs(x2 - x1) != 2 or abs(y2 - y1) != 1:\n",
        "            if abs(x2 - x1) != 1 or abs(y2 - y1) != 2:\n",
        "                return False\n",
        "    elif peca.lower() == 'b':  # Bispo\n",
        "        if abs(x2 - x1) != abs(y2 - y1):\n",
        "            return False\n",
        "    elif peca.lower() == 'q':  # Rainha\n",
        "        if x1 != x2 and y1 != y2 and abs(x2 - x1) != abs(y2 - y1):\n",
        "            return False\n",
        "    elif peca.lower() == 'k':  # Rei\n",
        "        if abs(x2 - x1) > 1 or abs(y2 - y1) > 1:\n",
        "            return False\n",
        "    elif peca.lower() == 'p':  # Peão\n",
        "        if x1 == x2:\n",
        "            if tabuleiro[x2][y2] != ' ':\n",
        "                return False\n",
        "        elif abs(x2 - x1) != 1 or abs(y2 - y1) != 1 or tabuleiro[x2][y2] == ' ':\n",
        "            return False\n",
        "\n",
        "    return True\n",
        "\n",
        "# Função para jogar o jogo\n",
        "def jogar_xadrez():\n",
        "    tabuleiro = inicializar_tabuleiro()\n",
        "    jogador_atual = 'brancas'\n",
        "\n",
        "    while True:\n",
        "        print(f\"Turno: {jogador_atual}\")\n",
        "        imprimir_tabuleiro(tabuleiro)\n",
        "\n",
        "        inicio = input(\"Digite a posição da peça que deseja mover (linha coluna): \")\n",
        "        fim = input(\"Digite a posição de destino (linha coluna): \")\n",
        "\n",
        "        x1, y1 = map(int, inicio.split())\n",
        "        x2, y2 = map(int, fim.split())\n",
        "\n",
        "        if validar_movimento(tabuleiro, (x1, y1), (x2, y2)):\n",
        "            mover_peca(tabuleiro, (x1, y1), (x2, y2))\n",
        "        else:\n",
        "            print(\"Movimento inválido. Tente novamente.\")\n",
        "            continue\n",
        "\n",
        "        if jogador_atual == 'brancas':\n",
        "            jogador_atual = 'pretas'\n",
        "        else:\n",
        "            jogador_atual = 'brancas'\n",
        "\n",
        "jogar_xadrez()\n"
      ]
    }
  ]
}