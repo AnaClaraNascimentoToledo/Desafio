{
  "nbformat": 4,
  "nbformat_minor": 0,
  "metadata": {
    "colab": {
      "provenance": [],
      "authorship_tag": "ABX9TyMKTAOAHzDSxgHlQLTcmkFU",
      "include_colab_link": true
    },
    "kernelspec": {
      "name": "python3",
      "display_name": "Python 3"
    },
    "language_info": {
      "name": "python"
    }
  },
  "cells": [
    {
      "cell_type": "markdown",
      "metadata": {
        "id": "view-in-github",
        "colab_type": "text"
      },
      "source": [
        "<a href=\"https://colab.research.google.com/github/luminecherry/Desafio/blob/main/JogoDaForca.ipynb\" target=\"_parent\"><img src=\"https://colab.research.google.com/assets/colab-badge.svg\" alt=\"Open In Colab\"/></a>"
      ]
    },
    {
      "cell_type": "code",
      "execution_count": null,
      "metadata": {
        "colab": {
          "base_uri": "https://localhost:8080/"
        },
        "id": "xn4hklGCaRtm",
        "outputId": "6bbe4627-f433-480f-b03e-62029e5893d3"
      },
      "outputs": [
        {
          "output_type": "stream",
          "name": "stdout",
          "text": [
            "Bem-vindo ao jogo da forca!\n",
            "A palavra tem 5 letras.\n",
            "\n",
            "Palavra: _ _ _ _ _\n",
            "Tentativas restantes: 6\n",
            "Letras erradas: \n"
          ]
        }
      ],
      "source": [
        "import random\n",
        "\n",
        "def escolher_palavra():\n",
        "    palavras = ['python', 'programacao', 'desafio', 'computador', 'jogo', 'forca']\n",
        "    return random.choice(palavras)\n",
        "\n",
        "def jogar_forca():\n",
        "    palavra = escolher_palavra()\n",
        "    palavra_secreta = '_' * len(palavra)\n",
        "    tentativas = 6\n",
        "    letras_erradas = []\n",
        "\n",
        "    print('Bem-vindo ao jogo da forca!')\n",
        "    print('A palavra tem', len(palavra), 'letras.')\n",
        "\n",
        "    while tentativas > 0 and palavra_secreta != palavra:\n",
        "        print('\\nPalavra:', ' '.join(palavra_secreta))\n",
        "        print('Tentativas restantes:', tentativas)\n",
        "        print('Letras erradas:', ' '.join(letras_erradas))\n",
        "\n",
        "        letra = input('Digite uma letra: ').lower()\n",
        "\n",
        "        if len(letra) != 1:\n",
        "            print('Digite apenas uma letra por vez!')\n",
        "            continue\n",
        "\n",
        "        if letra in letras_erradas or letra in palavra_secreta:\n",
        "            print('Você já tentou essa letra antes!')\n",
        "            continue\n",
        "\n",
        "        if letra in palavra:\n",
        "            indices = [i for i, x in enumerate(palavra) if x == letra]\n",
        "            palavra_secreta = list(palavra_secreta)\n",
        "            for indice in indices:\n",
        "                palavra_secreta[indice] = letra\n",
        "            palavra_secreta = ''.join(palavra_secreta)\n",
        "        else:\n",
        "            letras_erradas.append(letra)\n",
        "            tentativas -= 1\n",
        "\n",
        "    if palavra_secreta == palavra:\n",
        "        print('\\nParabéns! Você acertou a palavra:', palavra)\n",
        "    else:\n",
        "        print('\\nVocê perdeu! A palavra era:', palavra)\n",
        "\n",
        "    jogar_novamente = input('\\nDeseja jogar novamente? (s/n) ')\n",
        "    if jogar_novamente.lower() == 's':\n",
        "        jogar_forca()\n",
        "    else:\n",
        "        print('Obrigado por jogar!')\n",
        "\n",
        "jogar_forca()"
      ]
    }
  ]
}