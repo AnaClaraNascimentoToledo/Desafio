{
  "nbformat": 4,
  "nbformat_minor": 0,
  "metadata": {
    "colab": {
      "provenance": [],
      "toc_visible": true,
      "authorship_tag": "ABX9TyMd6TLXZ7xTLklNWgKK4Wso",
      "include_colab_link": true
    },
    "kernelspec": {
      "name": "python3",
      "display_name": "Python 3"
    },
    "language_info": {
      "name": "python"
    }
  },
  "cells": [
    {
      "cell_type": "markdown",
      "metadata": {
        "id": "view-in-github",
        "colab_type": "text"
      },
      "source": [
        "<a href=\"https://colab.research.google.com/github/luminecherry/Desafio/blob/main/calculadora.ipynb\" target=\"_parent\"><img src=\"https://colab.research.google.com/assets/colab-badge.svg\" alt=\"Open In Colab\"/></a>"
      ]
    },
    {
      "cell_type": "code",
      "execution_count": 1,
      "metadata": {
        "colab": {
          "base_uri": "https://localhost:8080/"
        },
        "id": "kAM9pEQ9ZCMh",
        "outputId": "a6ee809a-2739-47b3-f789-cc8d55b1eeb0"
      },
      "outputs": [
        {
          "output_type": "stream",
          "name": "stdout",
          "text": [
            "Selecione a operação:\n",
            "1. Adição\n",
            "2. Subtração\n",
            "3. Multiplicação\n",
            "4. Divisão\n",
            "Digite sua opção (1/2/3/4): 1\n",
            "Digite o primeiro número: 12\n",
            "Digite o segundo número: 13\n",
            "12.0 + 13.0 = 25.0\n"
          ]
        }
      ],
      "source": [
        "def adicao(a, b):\n",
        "    return a + b\n",
        "\n",
        "def subtracao(a, b):\n",
        "    return a - b\n",
        "\n",
        "def multiplicacao(a, b):\n",
        "    return a * b\n",
        "\n",
        "def divisao(a, b):\n",
        "    if b != 0:\n",
        "        return a / b\n",
        "    else:\n",
        "        return \"Erro: divisão por zero!\"\n",
        "\n",
        "print(\"Selecione a operação:\")\n",
        "print(\"1. Adição\")\n",
        "print(\"2. Subtração\")\n",
        "print(\"3. Multiplicação\")\n",
        "print(\"4. Divisão\")\n",
        "\n",
        "escolha = input(\"Digite sua opção (1/2/3/4): \")\n",
        "\n",
        "num1 = float(input(\"Digite o primeiro número: \"))\n",
        "num2 = float(input(\"Digite o segundo número: \"))\n",
        "\n",
        "if escolha == '1':\n",
        "    print(num1, \"+\", num2, \"=\", adicao(num1, num2))\n",
        "elif escolha == '2':\n",
        "    print(num1, \"-\", num2, \"=\", subtracao(num1, num2))\n",
        "elif escolha == '3':\n",
        "    print(num1, \"*\", num2, \"=\", multiplicacao(num1, num2))\n",
        "elif escolha == '4':\n",
        "    print(num1, \"/\", num2, \"=\", divisao(num1, num2))\n",
        "else:\n",
        "    print(\"Opção inválida!\")\n"
      ]
    }
  ]
}